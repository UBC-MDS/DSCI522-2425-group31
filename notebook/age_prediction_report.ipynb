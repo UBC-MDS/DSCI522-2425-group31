{
 "cells": [
  {
   "cell_type": "markdown",
   "id": "3df699d6-6be9-4a9a-b91c-25e2739b7e00",
   "metadata": {},
   "source": [
    "# Predicting Age from National Health and Nutrition Health Survey 2013-2014"
   ]
  },
  {
   "cell_type": "markdown",
   "id": "e03eb45e-b352-4c21-9fe6-9b5c43000e06",
   "metadata": {},
   "source": [
    "by Ismail (Husain) Bhinderwala, Rashid Mammadov, Sienko Ikhabi, Dongchun Chen"
   ]
  },
  {
   "cell_type": "markdown",
   "id": "8897a257-924c-46e7-85e0-4a92f660dfcc",
   "metadata": {},
   "source": [
    "# Methods and Results"
   ]
  },
  {
   "cell_type": "code",
   "execution_count": 22,
   "id": "5409343d-f1cb-466f-b3a5-0db5d41ff245",
   "metadata": {},
   "outputs": [],
   "source": [
    "import numpy as np\n",
    "import requests\n",
    "import zipfile\n",
    "import pandas as pd\n",
    "import altair as alt\n",
    "from sklearn.model_selection import train_test_split\n",
    "from sklearn import set_config"
   ]
  },
  {
   "cell_type": "code",
   "execution_count": 23,
   "id": "f032c2bf-4ce7-4293-a7f8-56c7a7924bc7",
   "metadata": {},
   "outputs": [],
   "source": [
    "# downloading data as zip and extracting\n",
    "url = \"https://archive.ics.uci.edu/static/public/887/national+health+and+nutrition+health+survey+2013-2014+(nhanes)+age+prediction+subset.zip\"\n",
    "\n",
    "request = requests.get(url)\n",
    "with open(\"../data/raw/national+health+and+nutrition+health+survey+2013-2014+(nhanes)+age+prediction+subset.zip\", 'wb') as f:\n",
    "    f.write(request.content)\n",
    "\n",
    "with zipfile.ZipFile(\"../data/raw/national+health+and+nutrition+health+survey+2013-2014+(nhanes)+age+prediction+subset.zip\", 'r') as zip_ref:\n",
    "    zip_ref.extractall(\"../data/raw\")"
   ]
  },
  {
   "cell_type": "code",
   "execution_count": 24,
   "id": "6823f695-2750-4171-9a88-04a5eb6364a5",
   "metadata": {},
   "outputs": [
    {
     "data": {
      "text/html": [
       "<div>\n",
       "<style scoped>\n",
       "    .dataframe tbody tr th:only-of-type {\n",
       "        vertical-align: middle;\n",
       "    }\n",
       "\n",
       "    .dataframe tbody tr th {\n",
       "        vertical-align: top;\n",
       "    }\n",
       "\n",
       "    .dataframe thead th {\n",
       "        text-align: right;\n",
       "    }\n",
       "</style>\n",
       "<table border=\"1\" class=\"dataframe\">\n",
       "  <thead>\n",
       "    <tr style=\"text-align: right;\">\n",
       "      <th></th>\n",
       "      <th>age_group</th>\n",
       "      <th>gender</th>\n",
       "      <th>weekly_physical_activity</th>\n",
       "      <th>bmi</th>\n",
       "      <th>blood_glucose_fasting</th>\n",
       "      <th>diabetic</th>\n",
       "      <th>oral</th>\n",
       "      <th>insulin_level</th>\n",
       "    </tr>\n",
       "  </thead>\n",
       "  <tbody>\n",
       "    <tr>\n",
       "      <th>0</th>\n",
       "      <td>Adult</td>\n",
       "      <td>Female</td>\n",
       "      <td>No</td>\n",
       "      <td>35.7</td>\n",
       "      <td>110.0</td>\n",
       "      <td>No</td>\n",
       "      <td>150.0</td>\n",
       "      <td>14.91</td>\n",
       "    </tr>\n",
       "    <tr>\n",
       "      <th>1</th>\n",
       "      <td>Adult</td>\n",
       "      <td>Female</td>\n",
       "      <td>No</td>\n",
       "      <td>20.3</td>\n",
       "      <td>89.0</td>\n",
       "      <td>No</td>\n",
       "      <td>80.0</td>\n",
       "      <td>3.85</td>\n",
       "    </tr>\n",
       "    <tr>\n",
       "      <th>2</th>\n",
       "      <td>Adult</td>\n",
       "      <td>Male</td>\n",
       "      <td>No</td>\n",
       "      <td>23.2</td>\n",
       "      <td>89.0</td>\n",
       "      <td>No</td>\n",
       "      <td>68.0</td>\n",
       "      <td>6.14</td>\n",
       "    </tr>\n",
       "    <tr>\n",
       "      <th>3</th>\n",
       "      <td>Adult</td>\n",
       "      <td>Male</td>\n",
       "      <td>No</td>\n",
       "      <td>28.9</td>\n",
       "      <td>104.0</td>\n",
       "      <td>No</td>\n",
       "      <td>84.0</td>\n",
       "      <td>16.15</td>\n",
       "    </tr>\n",
       "    <tr>\n",
       "      <th>4</th>\n",
       "      <td>Adult</td>\n",
       "      <td>Female</td>\n",
       "      <td>Yes</td>\n",
       "      <td>35.9</td>\n",
       "      <td>103.0</td>\n",
       "      <td>No</td>\n",
       "      <td>81.0</td>\n",
       "      <td>10.92</td>\n",
       "    </tr>\n",
       "    <tr>\n",
       "      <th>...</th>\n",
       "      <td>...</td>\n",
       "      <td>...</td>\n",
       "      <td>...</td>\n",
       "      <td>...</td>\n",
       "      <td>...</td>\n",
       "      <td>...</td>\n",
       "      <td>...</td>\n",
       "      <td>...</td>\n",
       "    </tr>\n",
       "    <tr>\n",
       "      <th>2273</th>\n",
       "      <td>Adult</td>\n",
       "      <td>Female</td>\n",
       "      <td>No</td>\n",
       "      <td>33.5</td>\n",
       "      <td>100.0</td>\n",
       "      <td>No</td>\n",
       "      <td>73.0</td>\n",
       "      <td>6.53</td>\n",
       "    </tr>\n",
       "    <tr>\n",
       "      <th>2274</th>\n",
       "      <td>Adult</td>\n",
       "      <td>Male</td>\n",
       "      <td>No</td>\n",
       "      <td>30.0</td>\n",
       "      <td>93.0</td>\n",
       "      <td>No</td>\n",
       "      <td>208.0</td>\n",
       "      <td>13.02</td>\n",
       "    </tr>\n",
       "    <tr>\n",
       "      <th>2275</th>\n",
       "      <td>Adult</td>\n",
       "      <td>Male</td>\n",
       "      <td>No</td>\n",
       "      <td>23.7</td>\n",
       "      <td>103.0</td>\n",
       "      <td>No</td>\n",
       "      <td>124.0</td>\n",
       "      <td>21.41</td>\n",
       "    </tr>\n",
       "    <tr>\n",
       "      <th>2276</th>\n",
       "      <td>Adult</td>\n",
       "      <td>Female</td>\n",
       "      <td>No</td>\n",
       "      <td>27.4</td>\n",
       "      <td>90.0</td>\n",
       "      <td>No</td>\n",
       "      <td>108.0</td>\n",
       "      <td>4.99</td>\n",
       "    </tr>\n",
       "    <tr>\n",
       "      <th>2277</th>\n",
       "      <td>Adult</td>\n",
       "      <td>Male</td>\n",
       "      <td>No</td>\n",
       "      <td>24.5</td>\n",
       "      <td>108.0</td>\n",
       "      <td>No</td>\n",
       "      <td>108.0</td>\n",
       "      <td>3.76</td>\n",
       "    </tr>\n",
       "  </tbody>\n",
       "</table>\n",
       "<p>2278 rows × 8 columns</p>\n",
       "</div>"
      ],
      "text/plain": [
       "     age_group  gender weekly_physical_activity   bmi  blood_glucose_fasting  \\\n",
       "0        Adult  Female                       No  35.7                  110.0   \n",
       "1        Adult  Female                       No  20.3                   89.0   \n",
       "2        Adult    Male                       No  23.2                   89.0   \n",
       "3        Adult    Male                       No  28.9                  104.0   \n",
       "4        Adult  Female                      Yes  35.9                  103.0   \n",
       "...        ...     ...                      ...   ...                    ...   \n",
       "2273     Adult  Female                       No  33.5                  100.0   \n",
       "2274     Adult    Male                       No  30.0                   93.0   \n",
       "2275     Adult    Male                       No  23.7                  103.0   \n",
       "2276     Adult  Female                       No  27.4                   90.0   \n",
       "2277     Adult    Male                       No  24.5                  108.0   \n",
       "\n",
       "     diabetic   oral  insulin_level  \n",
       "0          No  150.0          14.91  \n",
       "1          No   80.0           3.85  \n",
       "2          No   68.0           6.14  \n",
       "3          No   84.0          16.15  \n",
       "4          No   81.0          10.92  \n",
       "...       ...    ...            ...  \n",
       "2273       No   73.0           6.53  \n",
       "2274       No  208.0          13.02  \n",
       "2275       No  124.0          21.41  \n",
       "2276       No  108.0           4.99  \n",
       "2277       No  108.0           3.76  \n",
       "\n",
       "[2278 rows x 8 columns]"
      ]
     },
     "execution_count": 24,
     "metadata": {},
     "output_type": "execute_result"
    }
   ],
   "source": [
    "# pre-processing data\n",
    "col_names = [\n",
    "    \"id\",\n",
    "    \"age_group\",\n",
    "    \"age\",\n",
    "    \"gender\",\n",
    "    \"weekly_physical_activity\",\n",
    "    \"bmi\",\n",
    "    \"blood_glucose_fasting\",\n",
    "    \"diabetic\",\n",
    "    \"oral\",\n",
    "    \"insulin_level\"\n",
    "]\n",
    "\n",
    "data = pd.read_csv(\"../data/raw/NHANES_age_prediction.csv\", names=col_names, skiprows=1).drop(columns=[\"id\",\"age\"])\n",
    "\n",
    "data[\"gender\"] = data[\"gender\"].replace({\n",
    "    1 : \"Male\",\n",
    "    2 : \"Female\"\n",
    "})\n",
    "\n",
    "data[\"weekly_physical_activity\"] = data[\"weekly_physical_activity\"].replace({\n",
    "    1 : \"Yes\",\n",
    "    2 : \"No\"\n",
    "})\n",
    "\n",
    "data[\"diabetic\"] = data[\"diabetic\"].replace({\n",
    "    1 : \"Yes\",\n",
    "    2 : \"No\",\n",
    "    3 : \"Borderline\"\n",
    "})\n",
    "\n",
    "data"
   ]
  },
  {
   "cell_type": "code",
   "execution_count": 25,
   "id": "83d2f35e-35b5-41e4-bc53-95e103253a62",
   "metadata": {},
   "outputs": [
    {
     "data": {
      "text/html": [
       "<div>\n",
       "<style scoped>\n",
       "    .dataframe tbody tr th:only-of-type {\n",
       "        vertical-align: middle;\n",
       "    }\n",
       "\n",
       "    .dataframe tbody tr th {\n",
       "        vertical-align: top;\n",
       "    }\n",
       "\n",
       "    .dataframe thead th {\n",
       "        text-align: right;\n",
       "    }\n",
       "</style>\n",
       "<table border=\"1\" class=\"dataframe\">\n",
       "  <thead>\n",
       "    <tr style=\"text-align: right;\">\n",
       "      <th></th>\n",
       "      <th>bmi</th>\n",
       "      <th>blood_glucose_fasting</th>\n",
       "      <th>oral</th>\n",
       "      <th>insulin_level</th>\n",
       "    </tr>\n",
       "  </thead>\n",
       "  <tbody>\n",
       "    <tr>\n",
       "      <th>count</th>\n",
       "      <td>2278.000000</td>\n",
       "      <td>2278.000000</td>\n",
       "      <td>2278.000000</td>\n",
       "      <td>2278.000000</td>\n",
       "    </tr>\n",
       "    <tr>\n",
       "      <th>mean</th>\n",
       "      <td>27.955180</td>\n",
       "      <td>99.553117</td>\n",
       "      <td>114.978929</td>\n",
       "      <td>11.834794</td>\n",
       "    </tr>\n",
       "    <tr>\n",
       "      <th>std</th>\n",
       "      <td>7.248962</td>\n",
       "      <td>17.889834</td>\n",
       "      <td>47.061239</td>\n",
       "      <td>9.718812</td>\n",
       "    </tr>\n",
       "    <tr>\n",
       "      <th>min</th>\n",
       "      <td>14.500000</td>\n",
       "      <td>63.000000</td>\n",
       "      <td>40.000000</td>\n",
       "      <td>0.140000</td>\n",
       "    </tr>\n",
       "    <tr>\n",
       "      <th>25%</th>\n",
       "      <td>22.800000</td>\n",
       "      <td>91.000000</td>\n",
       "      <td>87.000000</td>\n",
       "      <td>5.860000</td>\n",
       "    </tr>\n",
       "    <tr>\n",
       "      <th>50%</th>\n",
       "      <td>26.800000</td>\n",
       "      <td>97.000000</td>\n",
       "      <td>105.000000</td>\n",
       "      <td>9.040000</td>\n",
       "    </tr>\n",
       "    <tr>\n",
       "      <th>75%</th>\n",
       "      <td>31.200000</td>\n",
       "      <td>104.000000</td>\n",
       "      <td>130.000000</td>\n",
       "      <td>14.440000</td>\n",
       "    </tr>\n",
       "    <tr>\n",
       "      <th>max</th>\n",
       "      <td>70.100000</td>\n",
       "      <td>405.000000</td>\n",
       "      <td>604.000000</td>\n",
       "      <td>102.290000</td>\n",
       "    </tr>\n",
       "  </tbody>\n",
       "</table>\n",
       "</div>"
      ],
      "text/plain": [
       "               bmi  blood_glucose_fasting         oral  insulin_level\n",
       "count  2278.000000            2278.000000  2278.000000    2278.000000\n",
       "mean     27.955180              99.553117   114.978929      11.834794\n",
       "std       7.248962              17.889834    47.061239       9.718812\n",
       "min      14.500000              63.000000    40.000000       0.140000\n",
       "25%      22.800000              91.000000    87.000000       5.860000\n",
       "50%      26.800000              97.000000   105.000000       9.040000\n",
       "75%      31.200000             104.000000   130.000000      14.440000\n",
       "max      70.100000             405.000000   604.000000     102.290000"
      ]
     },
     "execution_count": 25,
     "metadata": {},
     "output_type": "execute_result"
    }
   ],
   "source": [
    "data.describe()"
   ]
  },
  {
   "cell_type": "code",
   "execution_count": 26,
   "id": "b647b590-35dd-4a80-8abf-28da8682ef15",
   "metadata": {},
   "outputs": [
    {
     "data": {
      "text/plain": [
       "age_group\n",
       "Adult     1914\n",
       "Senior     364\n",
       "Name: count, dtype: int64"
      ]
     },
     "execution_count": 26,
     "metadata": {},
     "output_type": "execute_result"
    }
   ],
   "source": [
    "data[\"age_group\"].value_counts() #target variable\n",
    "#class imbalance in the data"
   ]
  },
  {
   "cell_type": "code",
   "execution_count": 27,
   "id": "17cc6ddd-ea0f-4cc8-acfd-385e84155b92",
   "metadata": {},
   "outputs": [
    {
     "data": {
      "text/plain": [
       "gender\n",
       "Female    1165\n",
       "Male      1113\n",
       "Name: count, dtype: int64"
      ]
     },
     "execution_count": 27,
     "metadata": {},
     "output_type": "execute_result"
    }
   ],
   "source": [
    "data[\"gender\"].value_counts()"
   ]
  },
  {
   "cell_type": "code",
   "execution_count": 28,
   "id": "8fb7da64-e8cd-49a4-9700-bee07fe754d9",
   "metadata": {},
   "outputs": [
    {
     "data": {
      "text/plain": [
       "weekly_physical_activity\n",
       "No     1868\n",
       "Yes     409\n",
       "7.0       1\n",
       "Name: count, dtype: int64"
      ]
     },
     "execution_count": 28,
     "metadata": {},
     "output_type": "execute_result"
    }
   ],
   "source": [
    "data[\"weekly_physical_activity\"].value_counts()"
   ]
  },
  {
   "cell_type": "code",
   "execution_count": 29,
   "id": "54dc313b-f00b-448d-9d73-c2febf268af4",
   "metadata": {},
   "outputs": [
    {
     "data": {
      "text/plain": [
       "diabetic\n",
       "No            2199\n",
       "Borderline      58\n",
       "Yes             21\n",
       "Name: count, dtype: int64"
      ]
     },
     "execution_count": 29,
     "metadata": {},
     "output_type": "execute_result"
    }
   ],
   "source": [
    "data[\"diabetic\"].value_counts()"
   ]
  },
  {
   "cell_type": "code",
   "execution_count": 30,
   "id": "491de9f3-ecfd-4503-9b44-75144634447a",
   "metadata": {},
   "outputs": [],
   "source": [
    "np.random.seed(522)\n",
    "set_config(transform_output=\"pandas\")\n",
    "\n",
    "# creating the train test split\n",
    "data_train, data_test = train_test_split(\n",
    "    data, train_size=0.75, stratify=data[\"age_group\"] #using stratify for class imbalance in target variable\n",
    ")\n",
    "\n",
    "data_train.to_csv(\"../data/processed/data_train.csv\")\n",
    "data_test.to_csv(\"../data/processed/data_test.csv\")"
   ]
  },
  {
   "cell_type": "markdown",
   "id": "89193ab5-4a81-42fe-a484-18828cb81bfb",
   "metadata": {},
   "source": [
    "# References"
   ]
  },
  {
   "cell_type": "markdown",
   "id": "e057625a-56e7-4df0-87d8-8425745264b5",
   "metadata": {},
   "source": [
    "NA N. National Health and Nutrition Health Survey 2013-2014 (NHANES) Age Prediction Subset [dataset]. 2019. UCI Machine Learning Repository. Available from: https://doi.org/10.24432/C5BS66.\n",
    "\n",
    "Harris CR, Millman KJ, Van Der Walt SJ, Gommers R, Virtanen P, Cournapeau D, Wieser E, Taylor J, Berg S, Smith NJ, Kern R. Array programming with NumPy. Nature. 2020 Sep 17;585(7825):357-62.\n",
    "\n",
    "VanderPlas J, Granger B, Heer J, Moritz D, Wongsuphasawat K, Satyanarayan A, Lees E, Timofeev I, Welsh B, Sievert S. Altair: interactive statistical visualizations for Python. Journal of open source software. 2018 Dec 10;3(32):1057.\n",
    "\n",
    "Pedregosa F. Scikit‐learn: Machine learning in python Fabian. Journal of machine learning research. 2011;12:2825.\n",
    "\n",
    "Van Rossum G, Drake FL. Introduction to python 3: python documentation manual part 1. CreateSpace; 2009 Mar 20."
   ]
  },
  {
   "cell_type": "code",
   "execution_count": null,
   "id": "a69fd554-9290-4893-9063-1c01199995c1",
   "metadata": {},
   "outputs": [],
   "source": []
  }
 ],
 "metadata": {
  "kernelspec": {
   "display_name": "Python [conda env:522-group31] *",
   "language": "python",
   "name": "conda-env-522-group31-py"
  },
  "language_info": {
   "codemirror_mode": {
    "name": "ipython",
    "version": 3
   },
   "file_extension": ".py",
   "mimetype": "text/x-python",
   "name": "python",
   "nbconvert_exporter": "python",
   "pygments_lexer": "ipython3",
   "version": "3.12.0"
  }
 },
 "nbformat": 4,
 "nbformat_minor": 5
}
